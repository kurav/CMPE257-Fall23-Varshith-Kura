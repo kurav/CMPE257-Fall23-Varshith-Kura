{
  "nbformat": 4,
  "nbformat_minor": 0,
  "metadata": {
    "colab": {
      "provenance": [],
      "authorship_tag": "ABX9TyO4yMJpUPLCrYlN6ZVSnN+F",
      "include_colab_link": true
    },
    "kernelspec": {
      "name": "python3",
      "display_name": "Python 3"
    },
    "language_info": {
      "name": "python"
    }
  },
  "cells": [
    {
      "cell_type": "markdown",
      "metadata": {
        "id": "view-in-github",
        "colab_type": "text"
      },
      "source": [
        "<a href=\"https://colab.research.google.com/github/kurav/CMPE257-Fall23-Varshith-Kura/blob/homework-1/homework_1.ipynb\" target=\"_parent\"><img src=\"https://colab.research.google.com/assets/colab-badge.svg\" alt=\"Open In Colab\"/></a>"
      ]
    },
    {
      "cell_type": "code",
      "execution_count": null,
      "metadata": {
        "id": "g6AvWRIznluY"
      },
      "outputs": [],
      "source": [
        "import matplotlib.pyplot as plt\n",
        "import numpy as np\n",
        "\n",
        "w0, w1, w2 = 1, 1, 1\n",
        "v0, v1, v2 = 1, 1, 1\n",
        "best_w0, best_w1, best_w2 = w0, w1, w2\n",
        "\n",
        "\n",
        "x1, x2, y = [], [], []"
      ]
    },
    {
      "cell_type": "code",
      "source": [
        "def file_read(filename):\n",
        "    with open(filename, 'r') as file:\n",
        "        trash = file.readline()\n",
        "        for line in file:\n",
        "            values = line.strip().split(',')\n",
        "            x1.append(float(values[0]))\n",
        "            x2.append(float(values[1]))\n",
        "            y.append(int(values[2]))"
      ],
      "metadata": {
        "id": "hJIPo_KfnqtC"
      },
      "execution_count": null,
      "outputs": []
    },
    {
      "cell_type": "code",
      "source": [
        "def misclassified_points():\n",
        "    return [(x1[i], x2[i], y[i]) for i in range(len(x1)) if (w0 + w1 * x1[i] + w2 * x2[i]) * y[i] <= 0]\n",
        "\n",
        "\n",
        "def PLA():\n",
        "    global w0, w1, w2\n",
        "    for i in range(50):\n",
        "        misclassified = misclassified_points()\n",
        "        if not misclassified:\n",
        "            break\n",
        "        x1_misclassified, x2_misclassified, y_misclassified = misclassified[0]\n",
        "        w0 += y_misclassified\n",
        "        w1 += y_misclassified * x1_misclassified\n",
        "        w2 += y_misclassified * x2_misclassified"
      ],
      "metadata": {
        "id": "ZU2caQnfnr4T"
      },
      "execution_count": null,
      "outputs": []
    }
  ]
}