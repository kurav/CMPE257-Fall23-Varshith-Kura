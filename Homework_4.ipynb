{
  "nbformat": 4,
  "nbformat_minor": 0,
  "metadata": {
    "colab": {
      "provenance": [],
      "authorship_tag": "ABX9TyMOe3DsLvPjwACxDxTfBRuT",
      "include_colab_link": true
    },
    "kernelspec": {
      "name": "python3",
      "display_name": "Python 3"
    },
    "language_info": {
      "name": "python"
    }
  },
  "cells": [
    {
      "cell_type": "markdown",
      "metadata": {
        "id": "view-in-github",
        "colab_type": "text"
      },
      "source": [
        "<a href=\"https://colab.research.google.com/github/kurav/CMPE257-Fall23-Varshith-Kura/blob/homework-4/Homework_4.ipynb\" target=\"_parent\"><img src=\"https://colab.research.google.com/assets/colab-badge.svg\" alt=\"Open In Colab\"/></a>"
      ]
    },
    {
      "cell_type": "markdown",
      "source": [
        "##Task 1 – the basic SVM classifier"
      ],
      "metadata": {
        "id": "rqFwfRH6nSrG"
      }
    },
    {
      "cell_type": "markdown",
      "source": [
        "[LP] In this homework, we will look at all the data points available in the digits dataset to perform\n",
        "classification for digit 1 and not digit 1. You are encouraged to reuse your preprocessing code from HW1.\n",
        "Different from HW1, you should not filter the dataset to remove any digits. Only convert the labels into\n",
        "labels for binary classification, i.e., ‘1’ and ‘-1’, where ‘-1’ corresponds to digits other than 1. Extract the\n",
        "“intensity” and “symmetry” for the entire dataset similar to HW1. DO NOT look at the test dataset until\n",
        "you reach question 4.\n",
        "For this homework, you may use a library implementation of Support Vector Machine classifiers, e.g., svm\n",
        "on sklearn provides the SVC class for binary classification."
      ],
      "metadata": {
        "id": "gCvd-MFjnXSv"
      }
    },
    {
      "cell_type": "code",
      "execution_count": null,
      "metadata": {
        "id": "2DAYOZy_yJNV"
      },
      "outputs": [],
      "source": [
        "import numpy as np\n",
        "import pandas as pd\n",
        "import matplotlib.pyplot as plt\n",
        "from sklearn import svm\n",
        "from sklearn.model_selection import train_test_split\n",
        "from sklearn.metrics import accuracy_score\n",
        "from sklearn.model_selection import GridSearchCV\n",
        "import matplotlib.pyplot as plt\n",
        "from sklearn.model_selection import cross_val_score\n",
        "from sklearn.svm import SVC\n"
      ]
    },
    {
      "cell_type": "code",
      "source": [
        "# Load the training dataset\n",
        "train_data = pd.read_csv('ZipDigits.train', header=None, delim_whitespace=True)\n",
        "\n",
        "train_data['label'] = train_data[0].apply(lambda x: 1 if x == 1 else -1)\n",
        "\n",
        "train_data.head()\n"
      ],
      "metadata": {
        "colab": {
          "base_uri": "https://localhost:8080/",
          "height": 235
        },
        "id": "KAKMIdtGyJ9C",
        "outputId": "086df5a4-6f58-4a42-abeb-94ba74a509c0"
      },
      "execution_count": null,
      "outputs": [
        {
          "output_type": "execute_result",
          "data": {
            "text/plain": [
              "     0    1    2    3      4      5      6      7      8      9  ...    248  \\\n",
              "0  6.0 -1.0 -1.0 -1.0 -1.000 -1.000 -1.000 -1.000 -0.631  0.862  ...  0.823   \n",
              "1  5.0 -1.0 -1.0 -1.0 -0.813 -0.671 -0.809 -0.887 -0.671 -0.853  ... -0.671   \n",
              "2  4.0 -1.0 -1.0 -1.0 -1.000 -1.000 -1.000 -1.000 -1.000 -1.000  ... -1.000   \n",
              "3  7.0 -1.0 -1.0 -1.0 -1.000 -1.000 -0.273  0.684  0.960  0.450  ...  1.000   \n",
              "4  3.0 -1.0 -1.0 -1.0 -1.000 -1.000 -0.928 -0.204  0.751  0.466  ...  0.639   \n",
              "\n",
              "     249    250    251    252    253    254    255  256  label  \n",
              "0  1.000  0.482 -0.474 -0.991 -1.000 -1.000 -1.000 -1.0     -1  \n",
              "1 -0.033  0.761  0.762  0.126 -0.095 -0.671 -0.828 -1.0     -1  \n",
              "2 -1.000 -0.109  1.000 -0.179 -1.000 -1.000 -1.000 -1.0     -1  \n",
              "3  0.536 -0.987 -1.000 -1.000 -1.000 -1.000 -1.000 -1.0     -1  \n",
              "4  1.000  1.000  0.791  0.439 -0.199 -0.883 -1.000 -1.0     -1  \n",
              "\n",
              "[5 rows x 258 columns]"
            ],
            "text/html": [
              "\n",
              "  <div id=\"df-a829895e-e0bb-4e9f-80c7-bb4db4aed418\" class=\"colab-df-container\">\n",
              "    <div>\n",
              "<style scoped>\n",
              "    .dataframe tbody tr th:only-of-type {\n",
              "        vertical-align: middle;\n",
              "    }\n",
              "\n",
              "    .dataframe tbody tr th {\n",
              "        vertical-align: top;\n",
              "    }\n",
              "\n",
              "    .dataframe thead th {\n",
              "        text-align: right;\n",
              "    }\n",
              "</style>\n",
              "<table border=\"1\" class=\"dataframe\">\n",
              "  <thead>\n",
              "    <tr style=\"text-align: right;\">\n",
              "      <th></th>\n",
              "      <th>0</th>\n",
              "      <th>1</th>\n",
              "      <th>2</th>\n",
              "      <th>3</th>\n",
              "      <th>4</th>\n",
              "      <th>5</th>\n",
              "      <th>6</th>\n",
              "      <th>7</th>\n",
              "      <th>8</th>\n",
              "      <th>9</th>\n",
              "      <th>...</th>\n",
              "      <th>248</th>\n",
              "      <th>249</th>\n",
              "      <th>250</th>\n",
              "      <th>251</th>\n",
              "      <th>252</th>\n",
              "      <th>253</th>\n",
              "      <th>254</th>\n",
              "      <th>255</th>\n",
              "      <th>256</th>\n",
              "      <th>label</th>\n",
              "    </tr>\n",
              "  </thead>\n",
              "  <tbody>\n",
              "    <tr>\n",
              "      <th>0</th>\n",
              "      <td>6.0</td>\n",
              "      <td>-1.0</td>\n",
              "      <td>-1.0</td>\n",
              "      <td>-1.0</td>\n",
              "      <td>-1.000</td>\n",
              "      <td>-1.000</td>\n",
              "      <td>-1.000</td>\n",
              "      <td>-1.000</td>\n",
              "      <td>-0.631</td>\n",
              "      <td>0.862</td>\n",
              "      <td>...</td>\n",
              "      <td>0.823</td>\n",
              "      <td>1.000</td>\n",
              "      <td>0.482</td>\n",
              "      <td>-0.474</td>\n",
              "      <td>-0.991</td>\n",
              "      <td>-1.000</td>\n",
              "      <td>-1.000</td>\n",
              "      <td>-1.000</td>\n",
              "      <td>-1.0</td>\n",
              "      <td>-1</td>\n",
              "    </tr>\n",
              "    <tr>\n",
              "      <th>1</th>\n",
              "      <td>5.0</td>\n",
              "      <td>-1.0</td>\n",
              "      <td>-1.0</td>\n",
              "      <td>-1.0</td>\n",
              "      <td>-0.813</td>\n",
              "      <td>-0.671</td>\n",
              "      <td>-0.809</td>\n",
              "      <td>-0.887</td>\n",
              "      <td>-0.671</td>\n",
              "      <td>-0.853</td>\n",
              "      <td>...</td>\n",
              "      <td>-0.671</td>\n",
              "      <td>-0.033</td>\n",
              "      <td>0.761</td>\n",
              "      <td>0.762</td>\n",
              "      <td>0.126</td>\n",
              "      <td>-0.095</td>\n",
              "      <td>-0.671</td>\n",
              "      <td>-0.828</td>\n",
              "      <td>-1.0</td>\n",
              "      <td>-1</td>\n",
              "    </tr>\n",
              "    <tr>\n",
              "      <th>2</th>\n",
              "      <td>4.0</td>\n",
              "      <td>-1.0</td>\n",
              "      <td>-1.0</td>\n",
              "      <td>-1.0</td>\n",
              "      <td>-1.000</td>\n",
              "      <td>-1.000</td>\n",
              "      <td>-1.000</td>\n",
              "      <td>-1.000</td>\n",
              "      <td>-1.000</td>\n",
              "      <td>-1.000</td>\n",
              "      <td>...</td>\n",
              "      <td>-1.000</td>\n",
              "      <td>-1.000</td>\n",
              "      <td>-0.109</td>\n",
              "      <td>1.000</td>\n",
              "      <td>-0.179</td>\n",
              "      <td>-1.000</td>\n",
              "      <td>-1.000</td>\n",
              "      <td>-1.000</td>\n",
              "      <td>-1.0</td>\n",
              "      <td>-1</td>\n",
              "    </tr>\n",
              "    <tr>\n",
              "      <th>3</th>\n",
              "      <td>7.0</td>\n",
              "      <td>-1.0</td>\n",
              "      <td>-1.0</td>\n",
              "      <td>-1.0</td>\n",
              "      <td>-1.000</td>\n",
              "      <td>-1.000</td>\n",
              "      <td>-0.273</td>\n",
              "      <td>0.684</td>\n",
              "      <td>0.960</td>\n",
              "      <td>0.450</td>\n",
              "      <td>...</td>\n",
              "      <td>1.000</td>\n",
              "      <td>0.536</td>\n",
              "      <td>-0.987</td>\n",
              "      <td>-1.000</td>\n",
              "      <td>-1.000</td>\n",
              "      <td>-1.000</td>\n",
              "      <td>-1.000</td>\n",
              "      <td>-1.000</td>\n",
              "      <td>-1.0</td>\n",
              "      <td>-1</td>\n",
              "    </tr>\n",
              "    <tr>\n",
              "      <th>4</th>\n",
              "      <td>3.0</td>\n",
              "      <td>-1.0</td>\n",
              "      <td>-1.0</td>\n",
              "      <td>-1.0</td>\n",
              "      <td>-1.000</td>\n",
              "      <td>-1.000</td>\n",
              "      <td>-0.928</td>\n",
              "      <td>-0.204</td>\n",
              "      <td>0.751</td>\n",
              "      <td>0.466</td>\n",
              "      <td>...</td>\n",
              "      <td>0.639</td>\n",
              "      <td>1.000</td>\n",
              "      <td>1.000</td>\n",
              "      <td>0.791</td>\n",
              "      <td>0.439</td>\n",
              "      <td>-0.199</td>\n",
              "      <td>-0.883</td>\n",
              "      <td>-1.000</td>\n",
              "      <td>-1.0</td>\n",
              "      <td>-1</td>\n",
              "    </tr>\n",
              "  </tbody>\n",
              "</table>\n",
              "<p>5 rows × 258 columns</p>\n",
              "</div>\n",
              "    <div class=\"colab-df-buttons\">\n",
              "\n",
              "  <div class=\"colab-df-container\">\n",
              "    <button class=\"colab-df-convert\" onclick=\"convertToInteractive('df-a829895e-e0bb-4e9f-80c7-bb4db4aed418')\"\n",
              "            title=\"Convert this dataframe to an interactive table.\"\n",
              "            style=\"display:none;\">\n",
              "\n",
              "  <svg xmlns=\"http://www.w3.org/2000/svg\" height=\"24px\" viewBox=\"0 -960 960 960\">\n",
              "    <path d=\"M120-120v-720h720v720H120Zm60-500h600v-160H180v160Zm220 220h160v-160H400v160Zm0 220h160v-160H400v160ZM180-400h160v-160H180v160Zm440 0h160v-160H620v160ZM180-180h160v-160H180v160Zm440 0h160v-160H620v160Z\"/>\n",
              "  </svg>\n",
              "    </button>\n",
              "\n",
              "  <style>\n",
              "    .colab-df-container {\n",
              "      display:flex;\n",
              "      gap: 12px;\n",
              "    }\n",
              "\n",
              "    .colab-df-convert {\n",
              "      background-color: #E8F0FE;\n",
              "      border: none;\n",
              "      border-radius: 50%;\n",
              "      cursor: pointer;\n",
              "      display: none;\n",
              "      fill: #1967D2;\n",
              "      height: 32px;\n",
              "      padding: 0 0 0 0;\n",
              "      width: 32px;\n",
              "    }\n",
              "\n",
              "    .colab-df-convert:hover {\n",
              "      background-color: #E2EBFA;\n",
              "      box-shadow: 0px 1px 2px rgba(60, 64, 67, 0.3), 0px 1px 3px 1px rgba(60, 64, 67, 0.15);\n",
              "      fill: #174EA6;\n",
              "    }\n",
              "\n",
              "    .colab-df-buttons div {\n",
              "      margin-bottom: 4px;\n",
              "    }\n",
              "\n",
              "    [theme=dark] .colab-df-convert {\n",
              "      background-color: #3B4455;\n",
              "      fill: #D2E3FC;\n",
              "    }\n",
              "\n",
              "    [theme=dark] .colab-df-convert:hover {\n",
              "      background-color: #434B5C;\n",
              "      box-shadow: 0px 1px 3px 1px rgba(0, 0, 0, 0.15);\n",
              "      filter: drop-shadow(0px 1px 2px rgba(0, 0, 0, 0.3));\n",
              "      fill: #FFFFFF;\n",
              "    }\n",
              "  </style>\n",
              "\n",
              "    <script>\n",
              "      const buttonEl =\n",
              "        document.querySelector('#df-a829895e-e0bb-4e9f-80c7-bb4db4aed418 button.colab-df-convert');\n",
              "      buttonEl.style.display =\n",
              "        google.colab.kernel.accessAllowed ? 'block' : 'none';\n",
              "\n",
              "      async function convertToInteractive(key) {\n",
              "        const element = document.querySelector('#df-a829895e-e0bb-4e9f-80c7-bb4db4aed418');\n",
              "        const dataTable =\n",
              "          await google.colab.kernel.invokeFunction('convertToInteractive',\n",
              "                                                    [key], {});\n",
              "        if (!dataTable) return;\n",
              "\n",
              "        const docLinkHtml = 'Like what you see? Visit the ' +\n",
              "          '<a target=\"_blank\" href=https://colab.research.google.com/notebooks/data_table.ipynb>data table notebook</a>'\n",
              "          + ' to learn more about interactive tables.';\n",
              "        element.innerHTML = '';\n",
              "        dataTable['output_type'] = 'display_data';\n",
              "        await google.colab.output.renderOutput(dataTable, element);\n",
              "        const docLink = document.createElement('div');\n",
              "        docLink.innerHTML = docLinkHtml;\n",
              "        element.appendChild(docLink);\n",
              "      }\n",
              "    </script>\n",
              "  </div>\n",
              "\n",
              "\n",
              "<div id=\"df-f7ecf748-0b42-4d22-8f48-60accd8e74ab\">\n",
              "  <button class=\"colab-df-quickchart\" onclick=\"quickchart('df-f7ecf748-0b42-4d22-8f48-60accd8e74ab')\"\n",
              "            title=\"Suggest charts\"\n",
              "            style=\"display:none;\">\n",
              "\n",
              "<svg xmlns=\"http://www.w3.org/2000/svg\" height=\"24px\"viewBox=\"0 0 24 24\"\n",
              "     width=\"24px\">\n",
              "    <g>\n",
              "        <path d=\"M19 3H5c-1.1 0-2 .9-2 2v14c0 1.1.9 2 2 2h14c1.1 0 2-.9 2-2V5c0-1.1-.9-2-2-2zM9 17H7v-7h2v7zm4 0h-2V7h2v10zm4 0h-2v-4h2v4z\"/>\n",
              "    </g>\n",
              "</svg>\n",
              "  </button>\n",
              "\n",
              "<style>\n",
              "  .colab-df-quickchart {\n",
              "      --bg-color: #E8F0FE;\n",
              "      --fill-color: #1967D2;\n",
              "      --hover-bg-color: #E2EBFA;\n",
              "      --hover-fill-color: #174EA6;\n",
              "      --disabled-fill-color: #AAA;\n",
              "      --disabled-bg-color: #DDD;\n",
              "  }\n",
              "\n",
              "  [theme=dark] .colab-df-quickchart {\n",
              "      --bg-color: #3B4455;\n",
              "      --fill-color: #D2E3FC;\n",
              "      --hover-bg-color: #434B5C;\n",
              "      --hover-fill-color: #FFFFFF;\n",
              "      --disabled-bg-color: #3B4455;\n",
              "      --disabled-fill-color: #666;\n",
              "  }\n",
              "\n",
              "  .colab-df-quickchart {\n",
              "    background-color: var(--bg-color);\n",
              "    border: none;\n",
              "    border-radius: 50%;\n",
              "    cursor: pointer;\n",
              "    display: none;\n",
              "    fill: var(--fill-color);\n",
              "    height: 32px;\n",
              "    padding: 0;\n",
              "    width: 32px;\n",
              "  }\n",
              "\n",
              "  .colab-df-quickchart:hover {\n",
              "    background-color: var(--hover-bg-color);\n",
              "    box-shadow: 0 1px 2px rgba(60, 64, 67, 0.3), 0 1px 3px 1px rgba(60, 64, 67, 0.15);\n",
              "    fill: var(--button-hover-fill-color);\n",
              "  }\n",
              "\n",
              "  .colab-df-quickchart-complete:disabled,\n",
              "  .colab-df-quickchart-complete:disabled:hover {\n",
              "    background-color: var(--disabled-bg-color);\n",
              "    fill: var(--disabled-fill-color);\n",
              "    box-shadow: none;\n",
              "  }\n",
              "\n",
              "  .colab-df-spinner {\n",
              "    border: 2px solid var(--fill-color);\n",
              "    border-color: transparent;\n",
              "    border-bottom-color: var(--fill-color);\n",
              "    animation:\n",
              "      spin 1s steps(1) infinite;\n",
              "  }\n",
              "\n",
              "  @keyframes spin {\n",
              "    0% {\n",
              "      border-color: transparent;\n",
              "      border-bottom-color: var(--fill-color);\n",
              "      border-left-color: var(--fill-color);\n",
              "    }\n",
              "    20% {\n",
              "      border-color: transparent;\n",
              "      border-left-color: var(--fill-color);\n",
              "      border-top-color: var(--fill-color);\n",
              "    }\n",
              "    30% {\n",
              "      border-color: transparent;\n",
              "      border-left-color: var(--fill-color);\n",
              "      border-top-color: var(--fill-color);\n",
              "      border-right-color: var(--fill-color);\n",
              "    }\n",
              "    40% {\n",
              "      border-color: transparent;\n",
              "      border-right-color: var(--fill-color);\n",
              "      border-top-color: var(--fill-color);\n",
              "    }\n",
              "    60% {\n",
              "      border-color: transparent;\n",
              "      border-right-color: var(--fill-color);\n",
              "    }\n",
              "    80% {\n",
              "      border-color: transparent;\n",
              "      border-right-color: var(--fill-color);\n",
              "      border-bottom-color: var(--fill-color);\n",
              "    }\n",
              "    90% {\n",
              "      border-color: transparent;\n",
              "      border-bottom-color: var(--fill-color);\n",
              "    }\n",
              "  }\n",
              "</style>\n",
              "\n",
              "  <script>\n",
              "    async function quickchart(key) {\n",
              "      const quickchartButtonEl =\n",
              "        document.querySelector('#' + key + ' button');\n",
              "      quickchartButtonEl.disabled = true;  // To prevent multiple clicks.\n",
              "      quickchartButtonEl.classList.add('colab-df-spinner');\n",
              "      try {\n",
              "        const charts = await google.colab.kernel.invokeFunction(\n",
              "            'suggestCharts', [key], {});\n",
              "      } catch (error) {\n",
              "        console.error('Error during call to suggestCharts:', error);\n",
              "      }\n",
              "      quickchartButtonEl.classList.remove('colab-df-spinner');\n",
              "      quickchartButtonEl.classList.add('colab-df-quickchart-complete');\n",
              "    }\n",
              "    (() => {\n",
              "      let quickchartButtonEl =\n",
              "        document.querySelector('#df-f7ecf748-0b42-4d22-8f48-60accd8e74ab button');\n",
              "      quickchartButtonEl.style.display =\n",
              "        google.colab.kernel.accessAllowed ? 'block' : 'none';\n",
              "    })();\n",
              "  </script>\n",
              "</div>\n",
              "    </div>\n",
              "  </div>\n"
            ]
          },
          "metadata": {},
          "execution_count": 5
        }
      ]
    },
    {
      "cell_type": "code",
      "source": [
        "# Define functions to calculate intensity and symmetry features\n",
        "def intensity(image):\n",
        "    return np.mean(image[1:])\n",
        "\n",
        "def symmetry(image):\n",
        "    left_half = image[0:129]  # Corrected split into left and right halves\n",
        "    right_half = image[129:]  # Corrected split into left and right halves\n",
        "    return np.abs(np.sum(left_half - np.flip(right_half)))\n"
      ],
      "metadata": {
        "id": "GqkfKpq_y8_6"
      },
      "execution_count": null,
      "outputs": []
    },
    {
      "cell_type": "code",
      "source": [
        "train_data['Intensity'] = train_data.apply(lambda row: intensity(row.values[1:]), axis=1)\n",
        "train_data['Symmetry'] = train_data.apply(lambda row: symmetry(row.values[1:]), axis=1)\n"
      ],
      "metadata": {
        "id": "NSRznkKjzd3N"
      },
      "execution_count": null,
      "outputs": []
    },
    {
      "cell_type": "code",
      "source": [
        "plt.figure(figsize=(10, 6))\n",
        "for label, group in train_data.groupby(0):\n",
        "    if label == 1:\n",
        "        plt.scatter(group['Intensity'], group['Symmetry'], label=' 1', color='orange')\n",
        "    else:\n",
        "        plt.scatter(group['Intensity'], group['Symmetry'], label=' -1', color='blue')\n",
        "\n",
        "plt.xlabel('Intensity')\n",
        "plt.ylabel('Symmetry')\n",
        "plt.legend(loc='upper right')\n",
        "plt.title('Symmetry vs Intensity')\n",
        "plt.grid(True)\n",
        "\n",
        "#plt.savefig('scatter_plot.png')\n",
        "plt.show()"
      ],
      "metadata": {
        "colab": {
          "base_uri": "https://localhost:8080/",
          "height": 564
        },
        "id": "_uElI2kSzgYa",
        "outputId": "6ca06df8-8bd9-4560-9428-add649c6ede8"
      },
      "execution_count": null,
      "outputs": [
        {
          "output_type": "display_data",
          "data": {
            "text/plain": [
              "<Figure size 1000x600 with 1 Axes>"
            ],
            "image/png": "[encoded data removed]"
          },
          "metadata": {}
        }
      ]
    },
    {
      "cell_type": "code",
      "source": [
        "X = train_data[['Intensity', 'Symmetry']]\n",
        "Y = train_data['label']\n",
        "\n",
        "X_train, X_test, Y_train, Y_test = train_test_split(X, Y, test_size=0.2)\n"
      ],
      "metadata": {
        "id": "LLwQWTUD0GeT"
      },
      "execution_count": null,
      "outputs": []
    },
    {
      "cell_type": "markdown",
      "source": [
        "[LP] Use the entire training set and train an SVM classifier using the linear kernel, the polynomial kernel (3 rd\n",
        "order), and the RBF kernel. Use the default value for the regularization parameter (C=1). Report the\n",
        "training error on all three kernels"
      ],
      "metadata": {
        "id": "mt6UcCaFnhc2"
      }
    },
    {
      "cell_type": "code",
      "source": [
        "# Linear Kernel\n",
        "linear_svm = svm.SVC(kernel='linear', C=1)\n",
        "linear_svm.fit(X_train, Y_train)\n",
        "linear_train_preds = linear_svm.predict(X_train)\n",
        "linear_train_accuracy = accuracy_score(Y_train, linear_train_preds)\n",
        "print(f\"Linear Kernel Training Error: {1 - linear_train_accuracy:.4f}\")\n",
        "\n",
        "# Polynomial Kernel (3rd order)\n",
        "poly_svm = svm.SVC(kernel='poly', degree=3, C=1)\n",
        "poly_svm.fit(X_train, Y_train)\n",
        "poly_train_preds = poly_svm.predict(X_train)\n",
        "poly_train_accuracy = accuracy_score(Y_train, poly_train_preds)\n",
        "print(f\"Polynomial Kernel Training Error: {1 - poly_train_accuracy:.4f}\")\n",
        "\n",
        "# RBF Kernel\n",
        "rbf_svm = svm.SVC(kernel='rbf', C=1)\n",
        "rbf_svm.fit(X_train, Y_train)\n",
        "rbf_train_preds = rbf_svm.predict(X_train)\n",
        "rbf_train_accuracy = accuracy_score(Y_train, rbf_train_preds)\n",
        "print(f\"RBF Kernel Training Error: {1 - rbf_train_accuracy:.4f}\")"
      ],
      "metadata": {
        "colab": {
          "base_uri": "https://localhost:8080/"
        },
        "id": "sGxXnxda7BlH",
        "outputId": "232ccd25-e659-4b83-ea83-4aafd49f4679"
      },
      "execution_count": null,
      "outputs": [
        {
          "output_type": "stream",
          "name": "stdout",
          "text": [
            "Linear Kernel Training Error: 0.0664\n",
            "Polynomial Kernel Training Error: 0.1387\n",
            "RBF Kernel Training Error: 0.1387\n"
          ]
        }
      ]
    },
    {
      "cell_type": "markdown",
      "source": [
        "[HP] What is the best kernel for this dataset only based on the results above? Is this an appropriate way\n",
        "to select a model? Why or why not? Be brief in your answer"
      ],
      "metadata": {
        "id": "n7ruT_n1nwwT"
      }
    },
    {
      "cell_type": "markdown",
      "source": [
        "Only based on the results above, the best kernel for this dataset would be the linear kernel. This isn't really the appropriate way to select the model though, this kernel might perform well on only the training dataset due to overfitting. Poor generalization might lead to great train accuracy but we need to check the model on some seperate test to determine the model accuracy."
      ],
      "metadata": {
        "id": "aXJ5n4sV7Lge"
      }
    },
    {
      "cell_type": "markdown",
      "source": [
        "##Task 2 – Cross validation"
      ],
      "metadata": {
        "id": "P9WAexq2l_xM"
      }
    },
    {
      "cell_type": "markdown",
      "source": [
        "[LP1] Use k-fold cross validation with k = 5 to select the best kernel and regularization parameter among\n",
        "the following:\n",
        "Kernel: linear, 3 rd order polynomial, RBF\n",
        "C: 0.01, 0.1, 1, 10, 100\n",
        "Note that you will still be working only with the training dataset and splitting it into training and validation\n",
        "sets. You may use the sklearn’s model selection class that provides you with the k-fold cross validator. You\n",
        "may also write your own implementation for cross validation.\n",
        "Report the cross validation error on each combination of kernel and C value."
      ],
      "metadata": {
        "id": "emHmE7TYmHxg"
      }
    },
    {
      "cell_type": "code",
      "source": [
        "param_grid = {'kernel': ['linear', 'poly', 'rbf'],\n",
        "              'C': [0.01, 0.1, 1, 10, 100]}\n",
        "\n",
        "# SVM + gridsearch cv object\n",
        "svm_classifier = svm.SVC()\n",
        "grid_search = GridSearchCV(svm_classifier, param_grid, cv=5, scoring='accuracy')\n",
        "grid_search.fit(X_train, Y_train)\n",
        "\n",
        "\n",
        "cv_results = pd.DataFrame(grid_search.cv_results_)\n",
        "print(cv_results[['param_kernel', 'param_C', 'mean_test_score']])\n",
        "best_params = grid_search.best_params_\n",
        "print(f\"Best Parameters: {best_params}\")\n",
        "best_svm_model = grid_search.best_estimator_\n",
        "\n",
        "#results\n",
        "test_preds = best_svm_model.predict(X_test)\n",
        "test_accuracy = accuracy_score(Y_test, test_preds)"
      ],
      "metadata": {
        "colab": {
          "base_uri": "https://localhost:8080/"
        },
        "id": "jUk_ROw-71pw",
        "outputId": "802f0fe5-5f3f-4cd5-8e1e-dcce45b2c8eb"
      },
      "execution_count": null,
      "outputs": [
        {
          "output_type": "stream",
          "name": "stdout",
          "text": [
            "   param_kernel param_C  mean_test_score\n",
            "0        linear    0.01         0.861283\n",
            "1          poly    0.01         0.861283\n",
            "2           rbf    0.01         0.861283\n",
            "3        linear     0.1         0.930896\n",
            "4          poly     0.1         0.861283\n",
            "5           rbf     0.1         0.861283\n",
            "6        linear       1         0.933297\n",
            "7          poly       1         0.861283\n",
            "8           rbf       1         0.861283\n",
            "9        linear      10         0.932782\n",
            "10         poly      10         0.861283\n",
            "11          rbf      10         0.885289\n",
            "12       linear     100         0.933126\n",
            "13         poly     100         0.861283\n",
            "14          rbf     100         0.938613\n",
            "Best Parameters: {'C': 100, 'kernel': 'rbf'}\n"
          ]
        }
      ]
    },
    {
      "cell_type": "markdown",
      "source": [
        "[LP2] What kernel and C value you would choose as a result of this experiment?"
      ],
      "metadata": {
        "id": "jNrDGiwJmgh5"
      }
    },
    {
      "cell_type": "code",
      "source": [
        "print(f\"Test Accuracy with Best Model: {test_accuracy:.4f}\")"
      ],
      "metadata": {
        "colab": {
          "base_uri": "https://localhost:8080/"
        },
        "id": "TiHW-IDEmdsE",
        "outputId": "bc65754e-e375-499e-de7e-d1c44e3f5012"
      },
      "execution_count": null,
      "outputs": [
        {
          "output_type": "stream",
          "name": "stdout",
          "text": [
            "Test Accuracy with Best Model: 0.9349\n"
          ]
        }
      ]
    },
    {
      "cell_type": "markdown",
      "source": [
        "we would use the rbf kernel with a C-value of 100"
      ],
      "metadata": {
        "id": "YvTaTmk0mnIF"
      }
    },
    {
      "cell_type": "markdown",
      "source": [
        "[HP] Plot the cross validation error and in-sample error using an appropriate visualization and explain the\n",
        "result in a caption for the plot.\n"
      ],
      "metadata": {
        "id": "5m2i-d2Pmt8U"
      }
    },
    {
      "cell_type": "code",
      "source": [
        "cv_results = pd.DataFrame(grid_search.cv_results_)\n",
        "params = cv_results[['param_kernel', 'param_C']]\n",
        "mean_test_score = cv_results['mean_test_score']\n",
        "mean_fit_time = cv_results['mean_fit_time']\n",
        "\n"
      ],
      "metadata": {
        "id": "TfKanVEb9o93"
      },
      "execution_count": null,
      "outputs": []
    },
    {
      "cell_type": "code",
      "source": [
        "heatmap_data = mean_test_score.values.reshape((len(param_grid['kernel']), len(param_grid['C'])))\n",
        "\n",
        "plt.figure(figsize=(10, 6))\n",
        "plt.imshow(heatmap_data, interpolation='nearest')\n",
        "plt.colorbar(label='Mean Test Score (Accuracy)')\n",
        "plt.title('Cross-Validation Error Heatmap')\n",
        "plt.xticks(ticks=range(len(param_grid['C'])), labels=param_grid['C'])\n",
        "plt.yticks(ticks=range(len(param_grid['kernel'])), labels=param_grid['kernel'])\n",
        "plt.xlabel('C Values')\n",
        "plt.ylabel('Kernel Types')\n",
        "plt.show()\n"
      ],
      "metadata": {
        "colab": {
          "base_uri": "https://localhost:8080/",
          "height": 499
        },
        "id": "cbU4YDVYL8q3",
        "outputId": "a05f8aaa-4f02-4481-e000-314a19fa90f0"
      },
      "execution_count": null,
      "outputs": [
        {
          "output_type": "display_data",
          "data": {
            "text/plain": [
              "<Figure size 1000x600 with 2 Axes>"
            ],
            "image/png": "[encoded data removed]"
          },
          "metadata": {}
        }
      ]
    },
    {
      "cell_type": "markdown",
      "source": [
        "##Task 3 – The final hypothesis\n"
      ],
      "metadata": {
        "id": "uZPW0XYLlroq"
      }
    },
    {
      "cell_type": "markdown",
      "source": [
        "[LP 1] Train your final SVM hypothesis based on cross validation on your entire training dataset. Report\n",
        "the in-sample error."
      ],
      "metadata": {
        "id": "9jvm8Z_RloEf"
      }
    },
    {
      "cell_type": "code",
      "source": [
        "svm_model_rbf = SVC(kernel='rbf', C=100)\n",
        "svm_model_rbf.fit(X, Y)\n",
        "in_sample_error_rbf = (1 - np.mean(cross_val_score(svm_model_rbf, X, Y, cv=5)))*100\n",
        "print(\"In-sample error:\", in_sample_error_rbf,\"%\")"
      ],
      "metadata": {
        "colab": {
          "base_uri": "https://localhost:8080/"
        },
        "id": "uB5J1Rj2frGY",
        "outputId": "45969fb8-5f4a-4ea3-85e9-0f3d7332b746"
      },
      "execution_count": null,
      "outputs": [
        {
          "output_type": "stream",
          "name": "stdout",
          "text": [
            "In-sample error: 6.336630591447423 %\n"
          ]
        }
      ]
    },
    {
      "cell_type": "markdown",
      "source": [
        "[LP2] Extract the test dataset from the ZipDigits.test file. Note that you do not need to filter this dataset,\n",
        "similar to the training set in this homework. Report the final test error for the SVM using the parameters\n",
        "chosen from LP 1."
      ],
      "metadata": {
        "id": "bBrMbJrNlZ6f"
      }
    },
    {
      "cell_type": "code",
      "source": [
        "test_data = pd.read_csv('ZipDigits.test', header=None, delim_whitespace=True)\n",
        "test_data['label'] = test_data[0].apply(lambda x: 1 if x == 1 else -1)\n",
        "\n",
        "# Calculate intensity and symmetry features for test data\n",
        "test_data['Intensity'] = test_data.apply(lambda row: intensity(row.values[1:]), axis=1)\n",
        "test_data['Symmetry'] = test_data.apply(lambda row: symmetry(row.values[1:]), axis=1)\n",
        "\n",
        "X_test = test_data[['Intensity', 'Symmetry']]\n",
        "Y_test = test_data['label']\n",
        "test_error = (1 - svm_model_rbf.score(X_test, Y_test))*100\n",
        "print(\"Test error:\", test_error,\"%\")"
      ],
      "metadata": {
        "colab": {
          "base_uri": "https://localhost:8080/"
        },
        "id": "gnDnVyGqhEb-",
        "outputId": "ad1e38ef-5697-4e4c-97f2-c3798e33b459"
      },
      "execution_count": null,
      "outputs": [
        {
          "output_type": "stream",
          "name": "stdout",
          "text": [
            "Test error: 7.17488789237668 %\n"
          ]
        }
      ]
    },
    {
      "cell_type": "markdown",
      "source": [
        "##Task 4 – Overall Learning approach"
      ],
      "metadata": {
        "id": "yu1L2bvzqBTi"
      }
    },
    {
      "cell_type": "markdown",
      "source": [
        "[HP 1] Collect all the results of your experiments on the digits dataset from previous homework by\n",
        "reporting the test errors in a table or graph (or whatever visualization you prefer). The models you should\n",
        "report for are PLA, pocket, pocket with 3 rd order polynomial feature transform, and neural network\n",
        "trained using the three gradient descent approaches.\n",
        "Briefly comment on the model with the best and worst test error. Why do you think the models show this\n",
        "performance? Be brief in your explanation. Please write in your own words, even if you discuss with\n",
        "others"
      ],
      "metadata": {
        "id": "AdO0rkkkqJn3"
      }
    },
    {
      "cell_type": "code",
      "source": [
        "import pandas as pd\n",
        "import matplotlib.pyplot as plt\n",
        "\n",
        "# Data\n",
        "data = {\n",
        "    'Model': ['PLA', 'Pocket', 'Pocket 3rd order', 'SVM', 'Neural Network'],\n",
        "    'Error Percentage': [24.0, 8.59, 14.41, 7.17, 4.72]  # Assuming Neural Network accuracy is 95.28%\n",
        "}\n",
        "df = pd.DataFrame(data)\n",
        "print(df)\n",
        "\n",
        "\n"
      ],
      "metadata": {
        "colab": {
          "base_uri": "https://localhost:8080/"
        },
        "id": "vsw64iEfvJwC",
        "outputId": "d25197ea-ebe0-471b-a2d1-b9d152189bc5"
      },
      "execution_count": null,
      "outputs": [
        {
          "output_type": "stream",
          "name": "stdout",
          "text": [
            "              Model  Error Percentage\n",
            "0               PLA             24.00\n",
            "1            Pocket              8.59\n",
            "2  Pocket 3rd order             14.41\n",
            "3               SVM              7.17\n",
            "4    Neural Network              4.72\n"
          ]
        }
      ]
    },
    {
      "cell_type": "code",
      "source": [
        "plt.figure(figsize=(10, 6))\n",
        "plt.bar(df['Model'], df['Error Percentage'], color=['red', 'blue', 'green', 'purple', 'orange'])\n",
        "plt.title('Errory Percentage for Different Models')\n",
        "plt.xlabel('Model')\n",
        "plt.ylabel('Error Percentage')\n",
        "plt.ylim(0, 100)\n",
        "plt.show()"
      ],
      "metadata": {
        "colab": {
          "base_uri": "https://localhost:8080/",
          "height": 564
        },
        "id": "PQLx18_sxeyH",
        "outputId": "ae2014e7-8818-47f3-cc60-c07e04c99b6c"
      },
      "execution_count": null,
      "outputs": [
        {
          "output_type": "display_data",
          "data": {
            "text/plain": [
              "<Figure size 1000x600 with 1 Axes>"
            ],
            "image/png": "[encoded data removed]"
          },
          "metadata": {}
        }
      ]
    },
    {
      "cell_type": "markdown",
      "source": [
        "The model with the best test accuracy (or least error) is the Neural Network. It is probably due to its ability to capture complex relationships in the data.\n",
        "The model with the least test accuracy ( or highest error) is PLA. It is a linear classifier, and if the data is not linearly separable, it may struggle to achieve good performance. The simplicity of the model could lead to high errors when faced with more intricate decision boundaries."
      ],
      "metadata": {
        "id": "g16GgGlOv1NQ"
      }
    },
    {
      "cell_type": "markdown",
      "source": [
        "[HP 2] Is this approach to choose the best digit classifier appropriate? Comment on a good approach to\n",
        "choose the best digit classifier using the provided dataset. Think about the size of the dataset, the\n",
        "complexity of these models, and the parameters you can alter. Be brief in your answer. As always, please\n",
        "write in your own words, even if you discuss with others or refer to external sources"
      ],
      "metadata": {
        "id": "GOMumYAIxaZo"
      }
    },
    {
      "cell_type": "markdown",
      "source": [
        "I would say that it is appropriate. The digits dataset is seems to have some amount of underlying complexity, and this can only be captured by models with higher capacity like Neural networks or SVMs. A large amount of data is also helpful to determine the best g(x) for the data, and a simple linear classifier will not be able to recognize the pattern behind the data. Though computationally expensive, if we have a decent amount of data, it would be best to use a Neural network for identifying the underlying pattern."
      ],
      "metadata": {
        "id": "xLBpNZ79wmgZ"
      }
    },
    {
      "cell_type": "markdown",
      "source": [
        "##References"
      ],
      "metadata": {
        "id": "v_e486dJyGaC"
      }
    },
    {
      "cell_type": "markdown",
      "source": [
        "https://scikit-learn.org/stable/modules/svm.html\n",
        "\n",
        "https://stackoverflow.com/questions/77296116/i-am-getting-nan-values-in-grid-search-cross-validation-test-results\n",
        "\n",
        "Discussed with classmates- Rajat Sharma\n"
      ],
      "metadata": {
        "id": "4ftT7zFuyIW-"
      }
    },
    {
      "cell_type": "code",
      "source": [],
      "metadata": {
        "id": "VXGWdixtyZml"
      },
      "execution_count": null,
      "outputs": []
    }
  ]
}