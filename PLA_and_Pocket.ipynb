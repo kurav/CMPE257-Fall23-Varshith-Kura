{
  "nbformat": 4,
  "nbformat_minor": 0,
  "metadata": {
    "colab": {
      "provenance": [],
      "authorship_tag": "ABX9TyMtdZFlb/DS/Zp7S609dIDj",
      "include_colab_link": true
    },
    "kernelspec": {
      "name": "python3",
      "display_name": "Python 3"
    },
    "language_info": {
      "name": "python"
    }
  },
  "cells": [
    {
      "cell_type": "markdown",
      "metadata": {
        "id": "view-in-github",
        "colab_type": "text"
      },
      "source": [
        "<a href=\"https://colab.research.google.com/github/kurav/CMPE257-Fall23-Varshith-Kura/blob/main/PLA_and_Pocket.ipynb\" target=\"_parent\"><img src=\"https://colab.research.google.com/assets/colab-badge.svg\" alt=\"Open In Colab\"/></a>"
      ]
    },
    {
      "cell_type": "code",
      "source": [
        "import pandas as pd\n",
        "import matplotlib as plt\n",
        "\n",
        "test1 = pd.read_csv('/content/synthetic_dataset.csv')\n",
        "\n",
        "test1.head()\n",
        "\n",
        "df = pd.DataFrame()\n",
        "#fig,axs = plt.subplot(1,1)\n"
      ],
      "metadata": {
        "id": "2S8NR0KUcDEg"
      },
      "execution_count": null,
      "outputs": []
    }
  ]
}