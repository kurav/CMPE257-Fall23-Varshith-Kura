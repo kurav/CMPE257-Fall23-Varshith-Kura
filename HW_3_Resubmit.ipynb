{
  "nbformat": 4,
  "nbformat_minor": 0,
  "metadata": {
    "colab": {
      "provenance": [],
      "authorship_tag": "ABX9TyM8BB/JZQ9XFnbfVcabk/iE",
      "include_colab_link": true
    },
    "kernelspec": {
      "name": "python3",
      "display_name": "Python 3"
    },
    "language_info": {
      "name": "python"
    }
  },
  "cells": [
    {
      "cell_type": "markdown",
      "metadata": {
        "id": "view-in-github",
        "colab_type": "text"
      },
      "source": [
        "<a href=\"https://colab.research.google.com/github/kurav/CMPE257-Fall23-Varshith-Kura/blob/Homework-3/HW_3_Resubmit.ipynb\" target=\"_parent\"><img src=\"https://colab.research.google.com/assets/colab-badge.svg\" alt=\"Open In Colab\"/></a>"
      ]
    },
    {
      "cell_type": "markdown",
      "source": [
        "# HP-1"
      ],
      "metadata": {
        "id": "46G9V9IKDZfP"
      }
    },
    {
      "cell_type": "code",
      "execution_count": 62,
      "metadata": {
        "id": "IclmBTgh0_9U"
      },
      "outputs": [],
      "source": [
        "import numpy as np\n",
        "import pandas as pd\n",
        "import matplotlib.pyplot as plt"
      ]
    },
    {
      "cell_type": "code",
      "source": [
        "#Let's load the data and do some preprocessing\n",
        "\n",
        "test_data = pd.read_csv('ZipDigits.test', header=None, delim_whitespace=True)\n",
        "train_data = pd.read_csv('ZipDigits.train', header=None, delim_whitespace=True)\n",
        "\n",
        "train_data_binary = train_data[train_data[0].isin([1, 5])]\n",
        "train_data[0] = train_data[0].apply(lambda x: 1 if x == 1 else -1)\n",
        "\n",
        "test_data_binary = test_data[test_data[0].isin([1, 5])]\n",
        "test_data[0] = test_data[0].apply(lambda x: 1 if x == 1 else -1)"
      ],
      "metadata": {
        "id": "2FTtFz4c1Ptz"
      },
      "execution_count": 63,
      "outputs": []
    },
    {
      "cell_type": "code",
      "source": [
        "#extracting and normalizing\n",
        "X_train = train_data_binary.iloc[:, 1:].values\n",
        "Y_train = train_data_binary.iloc[:, 0].values\n",
        "X_test = test_data_binary.iloc[:, 1:].values\n",
        "Y_test = test_data_binary.iloc[:, 0].values\n",
        "\n",
        "X_train = X_train / 255.0\n",
        "X_test = X_test / 255.0"
      ],
      "metadata": {
        "id": "pG2WHpyc3QmM"
      },
      "execution_count": 64,
      "outputs": []
    },
    {
      "cell_type": "code",
      "source": [
        "#shuffling the data\n",
        "shuffle_indices = np.random.permutation(len(X_train))\n",
        "X_train = X_train[shuffle_indices]\n",
        "Y_train = Y_train[shuffle_indices]"
      ],
      "metadata": {
        "id": "azINDfz53bR3"
      },
      "execution_count": 65,
      "outputs": []
    },
    {
      "cell_type": "code",
      "source": [
        "def tanh(x):\n",
        "    return np.tanh(x)\n",
        "\n",
        "def tanh_derivative(x):\n",
        "    return 1.0 - np.tanh(x)**2\n",
        "\n",
        "def initialize_weights(input_size, hidden_size, output_size):\n",
        "    W1 = np.random.randn(hidden_size, input_size)\n",
        "    W2 = np.random.randn(output_size, hidden_size)\n",
        "    return W1, W2"
      ],
      "metadata": {
        "id": "cpK_Kfx03lNx"
      },
      "execution_count": 66,
      "outputs": []
    },
    {
      "cell_type": "code",
      "source": [
        "def forward_propagation(W, x):\n",
        "    a1 = np.dot(W[0], x)\n",
        "    z1 = tanh(a1)\n",
        "    a2 = np.dot(W[1], z1)\n",
        "    y_pred = tanh(a2)\n",
        "    return a1, z1, a2, y_pred\n",
        "\n",
        "def compute_loss(y_pred, y):\n",
        "    return 0.5 * np.sum((y_pred - y)**2)\n",
        "\n",
        "def backward_propagation(W, x, a1, z1, a2, y_pred, y):\n",
        "\n",
        "    delta2 = (y_pred - y) * tanh_derivative(a2)\n",
        "    grad_W2 = np.outer(delta2, z1)\n",
        "    delta1 = np.dot(W[1].T, delta2) * tanh_derivative(a1)\n",
        "    grad_W1 = np.outer(delta1, x)\n",
        "    grad_W1 = np.clip(grad_W1, -1, 1)\n",
        "    grad_W2 = np.clip(grad_W2, -1, 1)\n",
        "    return grad_W1, grad_W2\n",
        "\n",
        "def update_weights(W, grad_W, learning_rate):\n",
        "    return W - learning_rate * grad_W\n",
        "\n"
      ],
      "metadata": {
        "id": "wHEJQoRu3rKQ"
      },
      "execution_count": 67,
      "outputs": []
    },
    {
      "cell_type": "code",
      "source": [
        "def train_neural_network(W, X, Y, learning_rate=0.001, max_iterations=2 * 10**6):\n",
        "    iterations = 0\n",
        "    losses = []\n",
        "    while iterations < max_iterations:\n",
        "        #random selection of example\n",
        "        random_index = np.random.randint(len(X))\n",
        "        x = X[random_index]\n",
        "        y = Y[random_index]\n",
        "        # Forward prop\n",
        "        a1, z1, a2, y_pred = forward_propagation(W, x)\n",
        "        #loss function\n",
        "        loss = compute_loss(y_pred, y)\n",
        "        # Backward prop\n",
        "        grad_W1, grad_W2 = backward_propagation(W, x, a1, z1, a2, y_pred, y)\n",
        "        W[0] = update_weights(W[0], grad_W1, learning_rate)\n",
        "        W[1] = update_weights(W[1], grad_W2, learning_rate)\n",
        "\n",
        "        iterations += 1\n",
        "        if iterations % 100000 == 0:\n",
        "          losses.append((iterations, loss))\n",
        "          print(f\"Iteration {iterations}, Loss: {loss}\")\n",
        "\n",
        "    return W,losses"
      ],
      "metadata": {
        "id": "ZZN6JEzQ30cE"
      },
      "execution_count": 68,
      "outputs": []
    },
    {
      "cell_type": "code",
      "source": [
        "input_size = X_train.shape[1]\n",
        "hidden_size = 10\n",
        "output_size = 1\n",
        "\n",
        "def initialize_weights(input_size, hidden_size, output_size):\n",
        "    # Initialize weights with smaller values\n",
        "    W1 = np.random.randn(hidden_size, input_size) * 0.01\n",
        "    W2 = np.random.randn(output_size, hidden_size) * 0.01\n",
        "    return [W1, W2]\n",
        "\n",
        "W_initial = initialize_weights(input_size, hidden_size, output_size)\n",
        "# Train the neural network using stochastic gradient descent\n",
        "W_trained,losses = train_neural_network(W_initial, X_train, Y_train)\n"
      ],
      "metadata": {
        "colab": {
          "base_uri": "https://localhost:8080/"
        },
        "id": "i6rrFMSV4EBx",
        "outputId": "78924dab-2b3a-48a3-b462-a9de72ad25f3"
      },
      "execution_count": 69,
      "outputs": [
        {
          "output_type": "stream",
          "name": "stdout",
          "text": [
            "Iteration 100000, Loss: 8.19475334538462\n",
            "Iteration 200000, Loss: 9.531970921917223e-06\n",
            "Iteration 300000, Loss: 8.010221241272555\n",
            "Iteration 400000, Loss: 3.785586473326966e-07\n",
            "Iteration 500000, Loss: 1.3900609058734197e-07\n",
            "Iteration 600000, Loss: 8.012053817320663\n",
            "Iteration 700000, Loss: 8.004114076255302\n",
            "Iteration 800000, Loss: 8.00046374840417\n",
            "Iteration 900000, Loss: 1.7001014918051233e-08\n",
            "Iteration 1000000, Loss: 1.06829306612898e-08\n",
            "Iteration 1100000, Loss: 1.8571581988204337e-08\n",
            "Iteration 1200000, Loss: 8.000270409313568\n",
            "Iteration 1300000, Loss: 9.619484009326722e-09\n",
            "Iteration 1400000, Loss: 3.41403446363914e-09\n",
            "Iteration 1500000, Loss: 8.00029463710808\n",
            "Iteration 1600000, Loss: 1.8144871175496763e-08\n",
            "Iteration 1700000, Loss: 4.886815924995003e-09\n",
            "Iteration 1800000, Loss: 8.000149552383522\n",
            "Iteration 1900000, Loss: 1.369033604654015e-09\n",
            "Iteration 2000000, Loss: 8.000119018526656\n"
          ]
        }
      ]
    },
    {
      "cell_type": "code",
      "source": [
        "filtered_losses = [(iteration, loss) for iteration, loss in losses if loss <= 1]\n",
        "filtered_iterations, filtered_loss_values = zip(*filtered_losses)\n",
        "# Plotting versus iteration\n",
        "plt.plot(filtered_iterations, filtered_loss_values)\n",
        "plt.xlabel('Iteration')\n",
        "plt.ylabel('Ein (In-sample Error)')\n",
        "plt.title('Ein vs Iteration')\n",
        "plt.show()"
      ],
      "metadata": {
        "colab": {
          "base_uri": "https://localhost:8080/",
          "height": 472
        },
        "id": "MLEQw4O17hmS",
        "outputId": "2a951664-2ede-4f39-a528-5d97d5b8961f"
      },
      "execution_count": 71,
      "outputs": [
        {
          "output_type": "display_data",
          "data": {
            "text/plain": [
              "<Figure size 640x480 with 1 Axes>"
            ],
            "image/png": "[encoded data removed]"
          },
          "metadata": {}
        }
      ]
    },
    {
      "cell_type": "code",
      "source": [
        "test_predictions = [np.sign(forward_propagation(W_trained, x)[-1]) for x in X_test]\n",
        "test_error = np.mean(test_predictions != Y_test)\n",
        "print(f\"Test Error: {test_error}\")"
      ],
      "metadata": {
        "colab": {
          "base_uri": "https://localhost:8080/"
        },
        "id": "x6zK2_qbAkcT",
        "outputId": "af994b07-7623-4ab0-dd4e-80091d3caf69"
      },
      "execution_count": 76,
      "outputs": [
        {
          "output_type": "stream",
          "name": "stdout",
          "text": [
            "Test Error: 0.37735849056603776\n"
          ]
        }
      ]
    }
  ]
}